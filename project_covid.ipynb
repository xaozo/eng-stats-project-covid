{
  "nbformat": 4,
  "nbformat_minor": 0,
  "metadata": {
    "language_info": {
      "codemirror_mode": {
        "name": "ipython",
        "version": 3
      },
      "file_extension": ".py",
      "mimetype": "text/x-python",
      "name": "python",
      "nbconvert_exporter": "python",
      "pygments_lexer": "ipython3",
      "version": "3.8.3-final"
    },
    "orig_nbformat": 2,
    "kernelspec": {
      "name": "python_defaultSpec_1597730852126",
      "display_name": "Python 3.8.3 64-bit ('miniconda3': conda)"
    },
    "colab": {
      "name": "project_covid.ipynb",
      "provenance": [],
      "collapsed_sections": []
    }
  },
  "cells": [
    {
      "cell_type": "code",
      "metadata": {
        "id": "sBIvkqy-6Cjg",
        "colab": {
          "base_uri": "https://localhost:8080/"
        },
        "outputId": "01285d13-8e36-406b-e6a7-b4f5484137dd"
      },
      "source": [
        "from google.colab import drive\n",
        "drive.mount('/content/drive', force_remount=True)"
      ],
      "execution_count": null,
      "outputs": [
        {
          "output_type": "stream",
          "text": [
            "Mounted at /content/drive\n"
          ],
          "name": "stdout"
        }
      ]
    },
    {
      "cell_type": "code",
      "metadata": {
        "id": "Xcftg89vYHTy",
        "colab": {
          "base_uri": "https://localhost:8080/"
        },
        "outputId": "8a6735ce-0ec4-4906-b703-4f9133fc0139"
      },
      "source": [
        "!pip install dcor"
      ],
      "execution_count": null,
      "outputs": [
        {
          "output_type": "stream",
          "text": [
            "Collecting dcor\n",
            "  Downloading https://files.pythonhosted.org/packages/91/43/2e2a4acb8fcac32b2702cc0a17b80d66b7453994744d226640d3a349c735/dcor-0.5.2-py2.py3-none-any.whl\n",
            "Requirement already satisfied: setuptools in /usr/local/lib/python3.6/dist-packages (from dcor) (50.3.2)\n",
            "Requirement already satisfied: numpy in /usr/local/lib/python3.6/dist-packages (from dcor) (1.18.5)\n",
            "Requirement already satisfied: scipy in /usr/local/lib/python3.6/dist-packages (from dcor) (1.4.1)\n",
            "Collecting numba>=0.51\n",
            "\u001b[?25l  Downloading https://files.pythonhosted.org/packages/48/78/31f620c3469287f4255d9a1054bee713cd3596fda2711c392ce3021b3c98/numba-0.51.2-cp36-cp36m-manylinux2014_x86_64.whl (3.1MB)\n",
            "\u001b[K     |████████████████████████████████| 3.1MB 18.5MB/s \n",
            "\u001b[?25hCollecting llvmlite<0.35,>=0.34.0.dev0\n",
            "\u001b[?25l  Downloading https://files.pythonhosted.org/packages/f3/b7/8a91b513f165e0affdeb975c1fef307c39d1051ce71e8aec1da9dcb317ad/llvmlite-0.34.0-cp36-cp36m-manylinux2010_x86_64.whl (24.6MB)\n",
            "\u001b[K     |████████████████████████████████| 24.6MB 1.8MB/s \n",
            "\u001b[?25hInstalling collected packages: llvmlite, numba, dcor\n",
            "  Found existing installation: llvmlite 0.31.0\n",
            "    Uninstalling llvmlite-0.31.0:\n",
            "      Successfully uninstalled llvmlite-0.31.0\n",
            "  Found existing installation: numba 0.48.0\n",
            "    Uninstalling numba-0.48.0:\n",
            "      Successfully uninstalled numba-0.48.0\n",
            "Successfully installed dcor-0.5.2 llvmlite-0.34.0 numba-0.51.2\n"
          ],
          "name": "stdout"
        }
      ]
    },
    {
      "cell_type": "code",
      "metadata": {
        "id": "1AVmzzD75QZe",
        "colab": {
          "base_uri": "https://localhost:8080/"
        },
        "outputId": "a129c512-58e2-47ae-a0a4-5ac2f4aed806"
      },
      "source": [
        "import pandas as pd\n",
        "import numpy as np\n",
        "import seaborn as sns\n",
        "import matplotlib.pyplot as plt\n",
        "from math import sqrt, floor, ceil\n",
        "from scipy import stats\n",
        "from statistics import variance\n",
        "from dcor import distance_correlation\n",
        "# note: variance() == np.var(ddof=1) == sample variance\n",
        "\n",
        "df = pd.read_excel('/content/drive/My Drive/Eng Stats project/COVID-19 Data for Project original.xlsx')\n",
        "df = df.drop(0) # remove blank row\n",
        "len(df)"
      ],
      "execution_count": null,
      "outputs": [
        {
          "output_type": "stream",
          "text": [
            "/usr/local/lib/python3.6/dist-packages/numba/np/ufunc/parallel.py:363: NumbaWarning: The TBB threading layer requires TBB version 2019.5 or later i.e., TBB_INTERFACE_VERSION >= 11005. Found TBB_INTERFACE_VERSION = 9107. The TBB threading layer is disabled.\n",
            "  warnings.warn(problem)\n"
          ],
          "name": "stderr"
        },
        {
          "output_type": "execute_result",
          "data": {
            "text/plain": [
              "1000"
            ]
          },
          "metadata": {
            "tags": []
          },
          "execution_count": 3
        }
      ]
    },
    {
      "cell_type": "markdown",
      "metadata": {
        "id": "OYL_mcYmA4fr"
      },
      "source": [
        "Impored dataframe mostly consists of the 'object' dtype. Need to convert dataframe columns to the relevant dtype that the column represents, so as to see descriptive statistics correctly."
      ]
    },
    {
      "cell_type": "code",
      "metadata": {
        "id": "RnEVer7NLC_E"
      },
      "source": [
        "# convert dataframe columns to relevant dtype\n",
        "\n",
        "toDate = ['SYMPTOMATIC ON', 'CONFIRMED ON', 'RECOVERED ON']\n",
        "toNumeric = ['CASE', 'AGE', 'SYMPTOMATIC TO CONFIRMATION', 'DAYS TO RECOVER']\n",
        "toCategory = ['GENDER', 'NATIONALITY', 'STATUS', 'DISPLAYED SYMPTOMS?']\n",
        "\n",
        "df = df.replace({'-': None})\n",
        "\n",
        "for column in toDate:\n",
        "    df[column] = pd.to_datetime(df[column].loc[df[column] != None])\n",
        "\n",
        "for column in toNumeric:\n",
        "    df[column] = pd.to_numeric(df[column].loc[df[column] != None])\n",
        "\n",
        "for column in toCategory:\n",
        "    df[column] = df[column].astype('category')"
      ],
      "execution_count": null,
      "outputs": []
    },
    {
      "cell_type": "code",
      "metadata": {
        "id": "iiK2E-DOJ4HG",
        "colab": {
          "base_uri": "https://localhost:8080/"
        },
        "outputId": "f95c680e-9b31-45ba-bb5b-365d4ecbc032"
      },
      "source": [
        "df.info()"
      ],
      "execution_count": null,
      "outputs": [
        {
          "output_type": "stream",
          "text": [
            "<class 'pandas.core.frame.DataFrame'>\n",
            "Int64Index: 1000 entries, 1 to 1000\n",
            "Data columns (total 11 columns):\n",
            " #   Column                       Non-Null Count  Dtype         \n",
            "---  ------                       --------------  -----         \n",
            " 0   CASE                         1000 non-null   float64       \n",
            " 1   AGE                          999 non-null    float64       \n",
            " 2   GENDER                       1000 non-null   category      \n",
            " 3   NATIONALITY                  1000 non-null   category      \n",
            " 4   STATUS                       1000 non-null   category      \n",
            " 5   SYMPTOMATIC TO CONFIRMATION  240 non-null    float64       \n",
            " 6   DAYS TO RECOVER              671 non-null    float64       \n",
            " 7   SYMPTOMATIC ON               240 non-null    datetime64[ns]\n",
            " 8   CONFIRMED ON                 1000 non-null   datetime64[ns]\n",
            " 9   RECOVERED ON                 670 non-null    datetime64[ns]\n",
            " 10  DISPLAYED SYMPTOMS?          1000 non-null   category      \n",
            "dtypes: category(4), datetime64[ns](3), float64(4)\n",
            "memory usage: 68.2 KB\n"
          ],
          "name": "stdout"
        }
      ]
    },
    {
      "cell_type": "markdown",
      "metadata": {
        "id": "TPdxPrA879dE"
      },
      "source": [
        "Note: DAYS TO RECOVER and RECOVERED ON **do not have the same count**."
      ]
    },
    {
      "cell_type": "code",
      "metadata": {
        "id": "ttueH8uHC2MQ",
        "colab": {
          "base_uri": "https://localhost:8080/",
          "height": 97
        },
        "outputId": "d0356615-047a-480e-8541-af5d1a35839c"
      },
      "source": [
        "df[(df['RECOVERED ON'].isnull()) & (df['DAYS TO RECOVER'].notnull())]"
      ],
      "execution_count": null,
      "outputs": [
        {
          "output_type": "execute_result",
          "data": {
            "text/html": [
              "<div>\n",
              "<style scoped>\n",
              "    .dataframe tbody tr th:only-of-type {\n",
              "        vertical-align: middle;\n",
              "    }\n",
              "\n",
              "    .dataframe tbody tr th {\n",
              "        vertical-align: top;\n",
              "    }\n",
              "\n",
              "    .dataframe thead th {\n",
              "        text-align: right;\n",
              "    }\n",
              "</style>\n",
              "<table border=\"1\" class=\"dataframe\">\n",
              "  <thead>\n",
              "    <tr style=\"text-align: right;\">\n",
              "      <th></th>\n",
              "      <th>CASE</th>\n",
              "      <th>AGE</th>\n",
              "      <th>GENDER</th>\n",
              "      <th>NATIONALITY</th>\n",
              "      <th>STATUS</th>\n",
              "      <th>SYMPTOMATIC TO CONFIRMATION</th>\n",
              "      <th>DAYS TO RECOVER</th>\n",
              "      <th>SYMPTOMATIC ON</th>\n",
              "      <th>CONFIRMED ON</th>\n",
              "      <th>RECOVERED ON</th>\n",
              "      <th>DISPLAYED SYMPTOMS?</th>\n",
              "    </tr>\n",
              "  </thead>\n",
              "  <tbody>\n",
              "    <tr>\n",
              "      <th>476</th>\n",
              "      <td>476.0</td>\n",
              "      <td>68.0</td>\n",
              "      <td>Male</td>\n",
              "      <td>Indonesian</td>\n",
              "      <td>Deceased</td>\n",
              "      <td>NaN</td>\n",
              "      <td>11.0</td>\n",
              "      <td>NaT</td>\n",
              "      <td>2020-03-22</td>\n",
              "      <td>NaT</td>\n",
              "      <td>1.0</td>\n",
              "    </tr>\n",
              "  </tbody>\n",
              "</table>\n",
              "</div>"
            ],
            "text/plain": [
              "      CASE   AGE GENDER  ... CONFIRMED ON RECOVERED ON  DISPLAYED SYMPTOMS?\n",
              "476  476.0  68.0   Male  ...   2020-03-22          NaT                  1.0\n",
              "\n",
              "[1 rows x 11 columns]"
            ]
          },
          "metadata": {
            "tags": []
          },
          "execution_count": 6
        }
      ]
    },
    {
      "cell_type": "code",
      "metadata": {
        "id": "RoElGdtx74Wy",
        "colab": {
          "base_uri": "https://localhost:8080/",
          "height": 436
        },
        "outputId": "2dbf10e1-c5b4-4601-a6c1-90929823cd17"
      },
      "source": [
        "pd.set_option(\"display.max.columns\", None)\n",
        "df"
      ],
      "execution_count": null,
      "outputs": [
        {
          "output_type": "execute_result",
          "data": {
            "text/html": [
              "<div>\n",
              "<style scoped>\n",
              "    .dataframe tbody tr th:only-of-type {\n",
              "        vertical-align: middle;\n",
              "    }\n",
              "\n",
              "    .dataframe tbody tr th {\n",
              "        vertical-align: top;\n",
              "    }\n",
              "\n",
              "    .dataframe thead th {\n",
              "        text-align: right;\n",
              "    }\n",
              "</style>\n",
              "<table border=\"1\" class=\"dataframe\">\n",
              "  <thead>\n",
              "    <tr style=\"text-align: right;\">\n",
              "      <th></th>\n",
              "      <th>CASE</th>\n",
              "      <th>AGE</th>\n",
              "      <th>GENDER</th>\n",
              "      <th>NATIONALITY</th>\n",
              "      <th>STATUS</th>\n",
              "      <th>SYMPTOMATIC TO CONFIRMATION</th>\n",
              "      <th>DAYS TO RECOVER</th>\n",
              "      <th>SYMPTOMATIC ON</th>\n",
              "      <th>CONFIRMED ON</th>\n",
              "      <th>RECOVERED ON</th>\n",
              "      <th>DISPLAYED SYMPTOMS?</th>\n",
              "    </tr>\n",
              "  </thead>\n",
              "  <tbody>\n",
              "    <tr>\n",
              "      <th>1</th>\n",
              "      <td>1.0</td>\n",
              "      <td>66.0</td>\n",
              "      <td>Male</td>\n",
              "      <td>Chinese</td>\n",
              "      <td>Recovered</td>\n",
              "      <td>3.0</td>\n",
              "      <td>26.0</td>\n",
              "      <td>2020-01-21</td>\n",
              "      <td>2020-01-23</td>\n",
              "      <td>2020-02-19</td>\n",
              "      <td>1.0</td>\n",
              "    </tr>\n",
              "    <tr>\n",
              "      <th>2</th>\n",
              "      <td>2.0</td>\n",
              "      <td>53.0</td>\n",
              "      <td>Female</td>\n",
              "      <td>Chinese</td>\n",
              "      <td>Recovered</td>\n",
              "      <td>3.0</td>\n",
              "      <td>14.0</td>\n",
              "      <td>2020-01-21</td>\n",
              "      <td>2020-01-24</td>\n",
              "      <td>2020-02-07</td>\n",
              "      <td>1.0</td>\n",
              "    </tr>\n",
              "    <tr>\n",
              "      <th>3</th>\n",
              "      <td>3.0</td>\n",
              "      <td>37.0</td>\n",
              "      <td>Male</td>\n",
              "      <td>Chinese</td>\n",
              "      <td>Recovered</td>\n",
              "      <td>1.0</td>\n",
              "      <td>27.0</td>\n",
              "      <td>2020-01-23</td>\n",
              "      <td>2020-01-24</td>\n",
              "      <td>2020-02-21</td>\n",
              "      <td>1.0</td>\n",
              "    </tr>\n",
              "    <tr>\n",
              "      <th>4</th>\n",
              "      <td>4.0</td>\n",
              "      <td>36.0</td>\n",
              "      <td>Male</td>\n",
              "      <td>Chinese</td>\n",
              "      <td>Recovered</td>\n",
              "      <td>3.0</td>\n",
              "      <td>17.0</td>\n",
              "      <td>2020-01-23</td>\n",
              "      <td>2020-01-25</td>\n",
              "      <td>2020-02-12</td>\n",
              "      <td>1.0</td>\n",
              "    </tr>\n",
              "    <tr>\n",
              "      <th>5</th>\n",
              "      <td>5.0</td>\n",
              "      <td>56.0</td>\n",
              "      <td>Female</td>\n",
              "      <td>Chinese</td>\n",
              "      <td>Recovered</td>\n",
              "      <td>4.0</td>\n",
              "      <td>21.0</td>\n",
              "      <td>2020-01-24</td>\n",
              "      <td>2020-01-27</td>\n",
              "      <td>2020-02-18</td>\n",
              "      <td>1.0</td>\n",
              "    </tr>\n",
              "    <tr>\n",
              "      <th>...</th>\n",
              "      <td>...</td>\n",
              "      <td>...</td>\n",
              "      <td>...</td>\n",
              "      <td>...</td>\n",
              "      <td>...</td>\n",
              "      <td>...</td>\n",
              "      <td>...</td>\n",
              "      <td>...</td>\n",
              "      <td>...</td>\n",
              "      <td>...</td>\n",
              "      <td>...</td>\n",
              "    </tr>\n",
              "    <tr>\n",
              "      <th>996</th>\n",
              "      <td>996.0</td>\n",
              "      <td>21.0</td>\n",
              "      <td>Female</td>\n",
              "      <td>Singaporean</td>\n",
              "      <td>In hospital</td>\n",
              "      <td>NaN</td>\n",
              "      <td>NaN</td>\n",
              "      <td>NaT</td>\n",
              "      <td>2020-04-01</td>\n",
              "      <td>NaT</td>\n",
              "      <td>1.0</td>\n",
              "    </tr>\n",
              "    <tr>\n",
              "      <th>997</th>\n",
              "      <td>997.0</td>\n",
              "      <td>50.0</td>\n",
              "      <td>Male</td>\n",
              "      <td>Indian</td>\n",
              "      <td>Recovered</td>\n",
              "      <td>NaN</td>\n",
              "      <td>14.0</td>\n",
              "      <td>NaT</td>\n",
              "      <td>2020-04-01</td>\n",
              "      <td>2020-04-15</td>\n",
              "      <td>1.0</td>\n",
              "    </tr>\n",
              "    <tr>\n",
              "      <th>998</th>\n",
              "      <td>998.0</td>\n",
              "      <td>31.0</td>\n",
              "      <td>Female</td>\n",
              "      <td>British</td>\n",
              "      <td>Recovered</td>\n",
              "      <td>NaN</td>\n",
              "      <td>8.0</td>\n",
              "      <td>NaT</td>\n",
              "      <td>2020-04-01</td>\n",
              "      <td>2020-04-09</td>\n",
              "      <td>1.0</td>\n",
              "    </tr>\n",
              "    <tr>\n",
              "      <th>999</th>\n",
              "      <td>999.0</td>\n",
              "      <td>21.0</td>\n",
              "      <td>Male</td>\n",
              "      <td>Singaporean</td>\n",
              "      <td>In hospital</td>\n",
              "      <td>NaN</td>\n",
              "      <td>NaN</td>\n",
              "      <td>NaT</td>\n",
              "      <td>2020-04-01</td>\n",
              "      <td>NaT</td>\n",
              "      <td>1.0</td>\n",
              "    </tr>\n",
              "    <tr>\n",
              "      <th>1000</th>\n",
              "      <td>1000.0</td>\n",
              "      <td>54.0</td>\n",
              "      <td>Male</td>\n",
              "      <td>Singaporean</td>\n",
              "      <td>Recovered</td>\n",
              "      <td>NaN</td>\n",
              "      <td>4.0</td>\n",
              "      <td>NaT</td>\n",
              "      <td>2020-04-01</td>\n",
              "      <td>2020-04-05</td>\n",
              "      <td>1.0</td>\n",
              "    </tr>\n",
              "  </tbody>\n",
              "</table>\n",
              "<p>1000 rows × 11 columns</p>\n",
              "</div>"
            ],
            "text/plain": [
              "        CASE   AGE  GENDER  NATIONALITY       STATUS  \\\n",
              "1        1.0  66.0    Male      Chinese    Recovered   \n",
              "2        2.0  53.0  Female      Chinese    Recovered   \n",
              "3        3.0  37.0    Male      Chinese    Recovered   \n",
              "4        4.0  36.0    Male      Chinese    Recovered   \n",
              "5        5.0  56.0  Female      Chinese    Recovered   \n",
              "...      ...   ...     ...          ...          ...   \n",
              "996    996.0  21.0  Female  Singaporean  In hospital   \n",
              "997    997.0  50.0    Male       Indian    Recovered   \n",
              "998    998.0  31.0  Female      British    Recovered   \n",
              "999    999.0  21.0    Male  Singaporean  In hospital   \n",
              "1000  1000.0  54.0    Male  Singaporean    Recovered   \n",
              "\n",
              "      SYMPTOMATIC TO CONFIRMATION  DAYS TO RECOVER SYMPTOMATIC ON  \\\n",
              "1                             3.0             26.0     2020-01-21   \n",
              "2                             3.0             14.0     2020-01-21   \n",
              "3                             1.0             27.0     2020-01-23   \n",
              "4                             3.0             17.0     2020-01-23   \n",
              "5                             4.0             21.0     2020-01-24   \n",
              "...                           ...              ...            ...   \n",
              "996                           NaN              NaN            NaT   \n",
              "997                           NaN             14.0            NaT   \n",
              "998                           NaN              8.0            NaT   \n",
              "999                           NaN              NaN            NaT   \n",
              "1000                          NaN              4.0            NaT   \n",
              "\n",
              "     CONFIRMED ON RECOVERED ON DISPLAYED SYMPTOMS?  \n",
              "1      2020-01-23   2020-02-19                 1.0  \n",
              "2      2020-01-24   2020-02-07                 1.0  \n",
              "3      2020-01-24   2020-02-21                 1.0  \n",
              "4      2020-01-25   2020-02-12                 1.0  \n",
              "5      2020-01-27   2020-02-18                 1.0  \n",
              "...           ...          ...                 ...  \n",
              "996    2020-04-01          NaT                 1.0  \n",
              "997    2020-04-01   2020-04-15                 1.0  \n",
              "998    2020-04-01   2020-04-09                 1.0  \n",
              "999    2020-04-01          NaT                 1.0  \n",
              "1000   2020-04-01   2020-04-05                 1.0  \n",
              "\n",
              "[1000 rows x 11 columns]"
            ]
          },
          "metadata": {
            "tags": []
          },
          "execution_count": 7
        }
      ]
    },
    {
      "cell_type": "code",
      "metadata": {
        "id": "Adi6V-nh8V4n",
        "colab": {
          "base_uri": "https://localhost:8080/",
          "height": 297
        },
        "outputId": "a2429ae6-2ac3-4de6-c4f0-475fb487fe8b"
      },
      "source": [
        "df.describe()"
      ],
      "execution_count": null,
      "outputs": [
        {
          "output_type": "execute_result",
          "data": {
            "text/html": [
              "<div>\n",
              "<style scoped>\n",
              "    .dataframe tbody tr th:only-of-type {\n",
              "        vertical-align: middle;\n",
              "    }\n",
              "\n",
              "    .dataframe tbody tr th {\n",
              "        vertical-align: top;\n",
              "    }\n",
              "\n",
              "    .dataframe thead th {\n",
              "        text-align: right;\n",
              "    }\n",
              "</style>\n",
              "<table border=\"1\" class=\"dataframe\">\n",
              "  <thead>\n",
              "    <tr style=\"text-align: right;\">\n",
              "      <th></th>\n",
              "      <th>CASE</th>\n",
              "      <th>AGE</th>\n",
              "      <th>SYMPTOMATIC TO CONFIRMATION</th>\n",
              "      <th>DAYS TO RECOVER</th>\n",
              "    </tr>\n",
              "  </thead>\n",
              "  <tbody>\n",
              "    <tr>\n",
              "      <th>count</th>\n",
              "      <td>1000.000000</td>\n",
              "      <td>999.000000</td>\n",
              "      <td>240.000000</td>\n",
              "      <td>671.000000</td>\n",
              "    </tr>\n",
              "    <tr>\n",
              "      <th>mean</th>\n",
              "      <td>500.500000</td>\n",
              "      <td>41.029029</td>\n",
              "      <td>6.054167</td>\n",
              "      <td>16.086438</td>\n",
              "    </tr>\n",
              "    <tr>\n",
              "      <th>std</th>\n",
              "      <td>288.819436</td>\n",
              "      <td>16.917285</td>\n",
              "      <td>4.774538</td>\n",
              "      <td>7.633096</td>\n",
              "    </tr>\n",
              "    <tr>\n",
              "      <th>min</th>\n",
              "      <td>1.000000</td>\n",
              "      <td>1.000000</td>\n",
              "      <td>0.000000</td>\n",
              "      <td>0.000000</td>\n",
              "    </tr>\n",
              "    <tr>\n",
              "      <th>25%</th>\n",
              "      <td>250.750000</td>\n",
              "      <td>27.000000</td>\n",
              "      <td>2.750000</td>\n",
              "      <td>11.000000</td>\n",
              "    </tr>\n",
              "    <tr>\n",
              "      <th>50%</th>\n",
              "      <td>500.500000</td>\n",
              "      <td>38.000000</td>\n",
              "      <td>5.000000</td>\n",
              "      <td>16.000000</td>\n",
              "    </tr>\n",
              "    <tr>\n",
              "      <th>75%</th>\n",
              "      <td>750.250000</td>\n",
              "      <td>54.000000</td>\n",
              "      <td>8.000000</td>\n",
              "      <td>20.000000</td>\n",
              "    </tr>\n",
              "    <tr>\n",
              "      <th>max</th>\n",
              "      <td>1000.000000</td>\n",
              "      <td>102.000000</td>\n",
              "      <td>33.000000</td>\n",
              "      <td>73.000000</td>\n",
              "    </tr>\n",
              "  </tbody>\n",
              "</table>\n",
              "</div>"
            ],
            "text/plain": [
              "              CASE         AGE  SYMPTOMATIC TO CONFIRMATION  DAYS TO RECOVER\n",
              "count  1000.000000  999.000000                   240.000000       671.000000\n",
              "mean    500.500000   41.029029                     6.054167        16.086438\n",
              "std     288.819436   16.917285                     4.774538         7.633096\n",
              "min       1.000000    1.000000                     0.000000         0.000000\n",
              "25%     250.750000   27.000000                     2.750000        11.000000\n",
              "50%     500.500000   38.000000                     5.000000        16.000000\n",
              "75%     750.250000   54.000000                     8.000000        20.000000\n",
              "max    1000.000000  102.000000                    33.000000        73.000000"
            ]
          },
          "metadata": {
            "tags": []
          },
          "execution_count": 8
        }
      ]
    },
    {
      "cell_type": "code",
      "metadata": {
        "id": "nUfn5XAz61IJ",
        "colab": {
          "base_uri": "https://localhost:8080/",
          "height": 173
        },
        "outputId": "03f76712-995f-4df0-d505-f69e4ef5af97"
      },
      "source": [
        "df.describe(include='category')"
      ],
      "execution_count": null,
      "outputs": [
        {
          "output_type": "execute_result",
          "data": {
            "text/html": [
              "<div>\n",
              "<style scoped>\n",
              "    .dataframe tbody tr th:only-of-type {\n",
              "        vertical-align: middle;\n",
              "    }\n",
              "\n",
              "    .dataframe tbody tr th {\n",
              "        vertical-align: top;\n",
              "    }\n",
              "\n",
              "    .dataframe thead th {\n",
              "        text-align: right;\n",
              "    }\n",
              "</style>\n",
              "<table border=\"1\" class=\"dataframe\">\n",
              "  <thead>\n",
              "    <tr style=\"text-align: right;\">\n",
              "      <th></th>\n",
              "      <th>GENDER</th>\n",
              "      <th>NATIONALITY</th>\n",
              "      <th>STATUS</th>\n",
              "      <th>DISPLAYED SYMPTOMS?</th>\n",
              "    </tr>\n",
              "  </thead>\n",
              "  <tbody>\n",
              "    <tr>\n",
              "      <th>count</th>\n",
              "      <td>1000</td>\n",
              "      <td>1000</td>\n",
              "      <td>1000</td>\n",
              "      <td>1000.0</td>\n",
              "    </tr>\n",
              "    <tr>\n",
              "      <th>unique</th>\n",
              "      <td>2</td>\n",
              "      <td>35</td>\n",
              "      <td>3</td>\n",
              "      <td>2.0</td>\n",
              "    </tr>\n",
              "    <tr>\n",
              "      <th>top</th>\n",
              "      <td>Male</td>\n",
              "      <td>Singaporean</td>\n",
              "      <td>Recovered</td>\n",
              "      <td>1.0</td>\n",
              "    </tr>\n",
              "    <tr>\n",
              "      <th>freq</th>\n",
              "      <td>577</td>\n",
              "      <td>724</td>\n",
              "      <td>670</td>\n",
              "      <td>994.0</td>\n",
              "    </tr>\n",
              "  </tbody>\n",
              "</table>\n",
              "</div>"
            ],
            "text/plain": [
              "       GENDER  NATIONALITY     STATUS  DISPLAYED SYMPTOMS?\n",
              "count    1000         1000       1000               1000.0\n",
              "unique      2           35          3                  2.0\n",
              "top      Male  Singaporean  Recovered                  1.0\n",
              "freq      577          724        670                994.0"
            ]
          },
          "metadata": {
            "tags": []
          },
          "execution_count": 9
        }
      ]
    },
    {
      "cell_type": "code",
      "metadata": {
        "id": "suNeYFM97YIo",
        "colab": {
          "base_uri": "https://localhost:8080/",
          "height": 97
        },
        "outputId": "57c32910-28e7-48f5-8e2b-9e932342f03e"
      },
      "source": [
        "df['DAYS TO RECOVER'].value_counts()\n",
        "df[df['DAYS TO RECOVER'] == 0]"
      ],
      "execution_count": null,
      "outputs": [
        {
          "output_type": "execute_result",
          "data": {
            "text/html": [
              "<div>\n",
              "<style scoped>\n",
              "    .dataframe tbody tr th:only-of-type {\n",
              "        vertical-align: middle;\n",
              "    }\n",
              "\n",
              "    .dataframe tbody tr th {\n",
              "        vertical-align: top;\n",
              "    }\n",
              "\n",
              "    .dataframe thead th {\n",
              "        text-align: right;\n",
              "    }\n",
              "</style>\n",
              "<table border=\"1\" class=\"dataframe\">\n",
              "  <thead>\n",
              "    <tr style=\"text-align: right;\">\n",
              "      <th></th>\n",
              "      <th>CASE</th>\n",
              "      <th>AGE</th>\n",
              "      <th>GENDER</th>\n",
              "      <th>NATIONALITY</th>\n",
              "      <th>STATUS</th>\n",
              "      <th>SYMPTOMATIC TO CONFIRMATION</th>\n",
              "      <th>DAYS TO RECOVER</th>\n",
              "      <th>SYMPTOMATIC ON</th>\n",
              "      <th>CONFIRMED ON</th>\n",
              "      <th>RECOVERED ON</th>\n",
              "      <th>DISPLAYED SYMPTOMS?</th>\n",
              "    </tr>\n",
              "  </thead>\n",
              "  <tbody>\n",
              "    <tr>\n",
              "      <th>151</th>\n",
              "      <td>151.0</td>\n",
              "      <td>51.0</td>\n",
              "      <td>Male</td>\n",
              "      <td>Singaporean</td>\n",
              "      <td>Recovered</td>\n",
              "      <td>33.0</td>\n",
              "      <td>0.0</td>\n",
              "      <td>2020-02-04</td>\n",
              "      <td>2020-03-08</td>\n",
              "      <td>2020-03-08</td>\n",
              "      <td>1.0</td>\n",
              "    </tr>\n",
              "  </tbody>\n",
              "</table>\n",
              "</div>"
            ],
            "text/plain": [
              "      CASE   AGE GENDER  NATIONALITY     STATUS  SYMPTOMATIC TO CONFIRMATION  \\\n",
              "151  151.0  51.0   Male  Singaporean  Recovered                         33.0   \n",
              "\n",
              "     DAYS TO RECOVER SYMPTOMATIC ON CONFIRMED ON RECOVERED ON  \\\n",
              "151              0.0     2020-02-04   2020-03-08   2020-03-08   \n",
              "\n",
              "    DISPLAYED SYMPTOMS?  \n",
              "151                 1.0  "
            ]
          },
          "metadata": {
            "tags": []
          },
          "execution_count": 10
        }
      ]
    },
    {
      "cell_type": "code",
      "metadata": {
        "id": "FVLmf_lW8x0f",
        "colab": {
          "base_uri": "https://localhost:8080/"
        },
        "outputId": "ee3646c0-2bc2-483f-b235-f9db8d005543"
      },
      "source": [
        "df['AGE'].unique()"
      ],
      "execution_count": null,
      "outputs": [
        {
          "output_type": "execute_result",
          "data": {
            "text/plain": [
              "array([ 66.,  53.,  37.,  36.,  56.,  35.,  31.,  73.,  47.,  38.,  28.,\n",
              "        48.,  44.,  41.,  17.,  32.,  40.,  42.,  45.,   1.,  27.,  39.,\n",
              "        64.,  52.,  51.,  71.,  54.,   2.,  34.,  46.,  62.,  55.,  30.,\n",
              "        26.,  61.,  57.,  50.,  79.,  25.,  43.,  29.,  24.,  75.,  58.,\n",
              "        12.,  20.,  49.,  68.,  70.,  33.,  65.,  77.,  60.,  69.,  67.,\n",
              "        59.,   5.,  83.,  76.,  22.,  63.,  78.,  86.,  23.,  19.,  72.,\n",
              "        21.,  nan,  80.,  18.,  74.,   9.,  11.,   3.,   6.,  13.,  88.,\n",
              "       102.,  85.,   7.])"
            ]
          },
          "metadata": {
            "tags": []
          },
          "execution_count": 11
        }
      ]
    },
    {
      "cell_type": "markdown",
      "metadata": {
        "id": "-It7V97RP2Mz"
      },
      "source": [
        "**1) Plot a histogram showing the distribution of COVID-19 patients by age group, e.g. 0 – 10 years, 11 – 20 years, 21 – 30 years, etc. What is the average age to contract the virus?** **(4 marks)**"
      ]
    },
    {
      "cell_type": "code",
      "metadata": {
        "id": "dNPxjYAz9tQF",
        "colab": {
          "base_uri": "https://localhost:8080/"
        },
        "outputId": "00f49562-e225-4675-fcd7-27b381bf4807"
      },
      "source": [
        "ages = df['AGE'].loc[df['AGE'].notnull()]\n",
        "print(len(ages))\n",
        "print('Average age: ', ages.mean())"
      ],
      "execution_count": null,
      "outputs": [
        {
          "output_type": "stream",
          "text": [
            "999\n",
            "Average age:  41.029029029029026\n"
          ],
          "name": "stdout"
        }
      ]
    },
    {
      "cell_type": "code",
      "metadata": {
        "id": "oI6miYyb5QZm",
        "colab": {
          "base_uri": "https://localhost:8080/",
          "height": 316
        },
        "outputId": "ec3ed1ff-42db-4db7-ad85-09dcac868019"
      },
      "source": [
        "plt.hist(ages, bins=[0,10,20,30,40,50,60,70,80,90,100,110])"
      ],
      "execution_count": null,
      "outputs": [
        {
          "output_type": "execute_result",
          "data": {
            "text/plain": [
              "(array([ 13.,  29., 273., 202., 155., 164., 110.,  37.,  15.,   0.,   1.]),\n",
              " array([  0,  10,  20,  30,  40,  50,  60,  70,  80,  90, 100, 110]),\n",
              " <a list of 11 Patch objects>)"
            ]
          },
          "metadata": {
            "tags": []
          },
          "execution_count": 13
        },
        {
          "output_type": "display_data",
          "data": {
            "image/png": "[encoded data removed]",
            "text/plain": [
              "<Figure size 432x288 with 1 Axes>"
            ]
          },
          "metadata": {
            "tags": [],
            "needs_background": "light"
          }
        }
      ]
    },
    {
      "cell_type": "markdown",
      "metadata": {
        "id": "rwdhTTeDRBkW"
      },
      "source": [
        "**2) According to the data provided, is it true that males generally take longer to recover than females? How conclusive is your answer? (4 marks)**"
      ]
    },
    {
      "cell_type": "code",
      "metadata": {
        "id": "KXmhDMNSPsc9",
        "colab": {
          "base_uri": "https://localhost:8080/"
        },
        "outputId": "b557a705-7ffc-49ab-a44c-dd5986d9773c"
      },
      "source": [
        "recovered = df[['GENDER', 'DAYS TO RECOVER']].loc[df['STATUS'] == 'Recovered']\n",
        "\n",
        "# count sample size used\n",
        "recovered_gender_count = recovered.groupby(['GENDER']).count()\n",
        "print('Sample size: ', len(recovered))\n",
        "print(recovered_gender_count.iloc[1].item(), 'males')\n",
        "print(recovered_gender_count.iloc[0].item(), 'females', '\\n')\n",
        "\n",
        "# get mean values (displayed in 3 d.p.)\n",
        "recovered_gender_mean = recovered.groupby(['GENDER']).mean()\n",
        "print('Mean days for males: ', \"{:.3f}\".format(recovered_gender_mean.iloc[1].item()))\n",
        "print('Mean days for females: ', \"{:.3f}\".format(recovered_gender_mean.iloc[0].item()))\n",
        "\n",
        "# get median values (displayed in 3 d.p.)\n",
        "recovered_gender_median = recovered.groupby(['GENDER']).median()\n",
        "print('Median days for males: ', \"{:.0f}\".format(recovered_gender_median.iloc[1].item()))\n",
        "print('Median days for females: ', \"{:.0f}\".format(recovered_gender_median.iloc[0].item()))"
      ],
      "execution_count": null,
      "outputs": [
        {
          "output_type": "stream",
          "text": [
            "Sample size:  670\n",
            "394 males\n",
            "276 females \n",
            "\n",
            "Mean days for males:  16.259\n",
            "Mean days for females:  15.859\n",
            "Median days for males:  16\n",
            "Median days for females:  15\n"
          ],
          "name": "stdout"
        }
      ]
    },
    {
      "cell_type": "code",
      "metadata": {
        "id": "fms7VutZ5QZx",
        "colab": {
          "base_uri": "https://localhost:8080/",
          "height": 334
        },
        "outputId": "5e465513-3da1-49cb-a971-535a9894667a"
      },
      "source": [
        "sns.set_style(\"white\")\n",
        "sns.set_palette(\"deep\")\n",
        "\n",
        "recovered_males = recovered[recovered['GENDER'] == 'Male']\n",
        "recovered_females = recovered[recovered['GENDER'] == 'Female']\n",
        "\n",
        "# plot graphs\n",
        "fig, (ax1, ax2) = plt.subplots(1,2, figsize=(10,5))\n",
        "sns.histplot(recovered_males, x=\"DAYS TO RECOVER\", kde=True, binwidth=1, ax=ax1)\n",
        "ax1.set(xlabel='Days to Recover (Male)', ylabel='Count')\n",
        "sns.histplot(recovered_females, x=\"DAYS TO RECOVER\", kde=True, binwidth=1, ax=ax2)\n",
        "ax2.set(xlabel='Days to Recover (Female)', ylabel='Count')\n",
        "plt.show()"
      ],
      "execution_count": null,
      "outputs": [
        {
          "output_type": "display_data",
          "data": {
            "image/png": "[encoded data removed]",
            "text/plain": [
              "<Figure size 720x360 with 2 Axes>"
            ]
          },
          "metadata": {
            "tags": []
          }
        }
      ]
    },
    {
      "cell_type": "code",
      "metadata": {
        "id": "6crRql_DcI08",
        "colab": {
          "base_uri": "https://localhost:8080/"
        },
        "outputId": "97ee8eb6-4275-4e12-ed9a-bfddbd628dd1"
      },
      "source": [
        "# sample variances\n",
        "s1 = recovered_males['DAYS TO RECOVER']\n",
        "s2 = recovered_females['DAYS TO RECOVER']\n",
        "recovered_males_var = np.var(s1, ddof=1)\n",
        "recovered_females_var = np.var(s2, ddof=1)\n",
        "print('Sample variance (male): ', recovered_males_var)\n",
        "print('Sample variance (female): ', recovered_females_var)\n",
        "\n",
        "# scipy two-sample T test\n",
        "t, p = stats.ttest_ind(a=s1, b=s2, equal_var=False)\n",
        "print('t-statistic =', t)\n",
        "print('p-value aka alpha =', p/2)"
      ],
      "execution_count": null,
      "outputs": [
        {
          "output_type": "stream",
          "text": [
            "Sample variance (male):  64.10074785910795\n",
            "Sample variance (female):  50.15814229249011\n",
            "t-statistic = 0.6818934348408804\n",
            "p-value aka alpha = 0.24777790473009131\n"
          ],
          "name": "stdout"
        }
      ]
    },
    {
      "cell_type": "code",
      "metadata": {
        "id": "S7ZSeAMi26xC",
        "colab": {
          "base_uri": "https://localhost:8080/"
        },
        "outputId": "2856aaa2-475b-4964-9202-b77c6e109e2b"
      },
      "source": [
        "recovered_males_mean = np.mean(s1)\n",
        "err = s1-recovered_males_mean\n",
        "err_sq = err**2\n",
        "err_sq.sum()\n",
        "recovered_males_mean"
      ],
      "execution_count": null,
      "outputs": [
        {
          "output_type": "execute_result",
          "data": {
            "text/plain": [
              "16.258883248730964"
            ]
          },
          "metadata": {
            "tags": []
          },
          "execution_count": 17
        }
      ]
    },
    {
      "cell_type": "code",
      "metadata": {
        "id": "qFrGgmchbrYH",
        "colab": {
          "base_uri": "https://localhost:8080/"
        },
        "outputId": "a6d8387e-db46-44ad-b9a1-a774389423f4"
      },
      "source": [
        "# define F test function\n",
        "def f_test(x, y):\n",
        "    x = np.array(x)\n",
        "    y = np.array(y)\n",
        "    f = np.var(x, ddof=1)/np.var(y, ddof=1) # calculate F test statistic \n",
        "    dfn = x.size - 1 # DOF numerator \n",
        "    dfd = y.size - 1 # DOF denominator \n",
        "    p = stats.f.sf(f, dfn, dfd) # find p-value of F test statistic \n",
        "    return f, p\n",
        "\n",
        "# perform F test to test for unequal variances\n",
        "f, p = f_test(s1, s2)\n",
        "print('required f-statistic =', f)\n",
        "print('alpha =', p)\n",
        "print('confidence of unequal variances =', 100*(1-p), '%')"
      ],
      "execution_count": null,
      "outputs": [
        {
          "output_type": "stream",
          "text": [
            "required f-statistic = 1.2779729258175778\n",
            "alpha = 0.014650199811819722\n",
            "confidence of unequal variances = 98.53498001881803 %\n"
          ],
          "name": "stdout"
        }
      ]
    },
    {
      "cell_type": "code",
      "metadata": {
        "id": "OE1zuw2IvvFt",
        "colab": {
          "base_uri": "https://localhost:8080/"
        },
        "outputId": "6bacd78a-3f60-4a88-f206-a78e2ffb5129"
      },
      "source": [
        "# find estimated degrees of freedom for T statistic (unequal variance assumption)\n",
        "kk = (recovered_males_var/394 + recovered_females_var/276)**2\n",
        "kkk = ((recovered_males_var/394)**2 / 393) + ((recovered_females_var/276)**2 / 275)\n",
        "DOF_est = floor(kk/kkk)\n",
        "print('estimated DOF =', DOF_est)\n",
        "\n",
        "# find value of alpha corresponding to maximum T statistic\n",
        "recovered_males_mean = recovered_gender_mean.iloc[1].item()\n",
        "recovered_females_mean = recovered_gender_mean.iloc[0].item()\n",
        "q2_mean_point_est = recovered_males_mean - recovered_females_mean\n",
        "t_half_alpha = q2_mean_point_est / sqrt(recovered_males_var/394 + recovered_females_var/276)\n",
        "q2_alpha2 = stats.t.sf(t_half_alpha, DOF_est)\n",
        "print('p-value calculated manually:', q2_alpha2)\n",
        "print('confidence of miuM > miuF:', 100*(1-q2_alpha2))"
      ],
      "execution_count": null,
      "outputs": [
        {
          "output_type": "stream",
          "text": [
            "estimated DOF = 632\n",
            "p-value calculated manually: 0.24777807473486418\n",
            "confidence of miuM > miuF: 75.22219252651358\n"
          ],
          "name": "stdout"
        }
      ]
    },
    {
      "cell_type": "markdown",
      "metadata": {
        "id": "ta2wOWDpDuks"
      },
      "source": [
        "**3) According to the data provided, is it true that males are less likely to recover (i.e. die from COVID-19), than females? How conclusive is your answer? (4 marks)**"
      ]
    },
    {
      "cell_type": "code",
      "metadata": {
        "id": "hWdqOOXnmTkq",
        "colab": {
          "base_uri": "https://localhost:8080/"
        },
        "outputId": "ff0dd7bc-7583-44f1-8afb-cac5bafccf23"
      },
      "source": [
        "male_cases = df[['GENDER', 'STATUS']].loc[df['GENDER'] == 'Male']\n",
        "female_cases = df[['GENDER', 'STATUS']].loc[df['GENDER'] == 'Female']\n",
        "\n",
        "print('Male cases: ', len(male_cases))\n",
        "print('Female cases: ', len(female_cases))"
      ],
      "execution_count": null,
      "outputs": [
        {
          "output_type": "stream",
          "text": [
            "Male cases:  577\n",
            "Female cases:  423\n"
          ],
          "name": "stdout"
        }
      ]
    },
    {
      "cell_type": "code",
      "metadata": {
        "id": "t-fnTFtZIjU_",
        "colab": {
          "base_uri": "https://localhost:8080/",
          "height": 142
        },
        "outputId": "d3accdf4-80df-4b67-8aca-8f7ab7278992"
      },
      "source": [
        "# number of deceased by gender\n",
        "dead = df[['GENDER', 'STATUS']].loc[df['STATUS'] == 'Deceased']\n",
        "dead_count = dead.groupby('GENDER').count()\n",
        "dead_count"
      ],
      "execution_count": null,
      "outputs": [
        {
          "output_type": "execute_result",
          "data": {
            "text/html": [
              "<div>\n",
              "<style scoped>\n",
              "    .dataframe tbody tr th:only-of-type {\n",
              "        vertical-align: middle;\n",
              "    }\n",
              "\n",
              "    .dataframe tbody tr th {\n",
              "        vertical-align: top;\n",
              "    }\n",
              "\n",
              "    .dataframe thead th {\n",
              "        text-align: right;\n",
              "    }\n",
              "</style>\n",
              "<table border=\"1\" class=\"dataframe\">\n",
              "  <thead>\n",
              "    <tr style=\"text-align: right;\">\n",
              "      <th></th>\n",
              "      <th>STATUS</th>\n",
              "    </tr>\n",
              "    <tr>\n",
              "      <th>GENDER</th>\n",
              "      <th></th>\n",
              "    </tr>\n",
              "  </thead>\n",
              "  <tbody>\n",
              "    <tr>\n",
              "      <th>Female</th>\n",
              "      <td>3</td>\n",
              "    </tr>\n",
              "    <tr>\n",
              "      <th>Male</th>\n",
              "      <td>5</td>\n",
              "    </tr>\n",
              "  </tbody>\n",
              "</table>\n",
              "</div>"
            ],
            "text/plain": [
              "        STATUS\n",
              "GENDER        \n",
              "Female       3\n",
              "Male         5"
            ]
          },
          "metadata": {
            "tags": []
          },
          "execution_count": 21
        }
      ]
    },
    {
      "cell_type": "code",
      "metadata": {
        "id": "Km7Gl3QRH6aX",
        "colab": {
          "base_uri": "https://localhost:8080/"
        },
        "outputId": "d0f0236f-cc06-4deb-ed24-a1ae10c37a89"
      },
      "source": [
        "# find point estimate for p_male - p_female\n",
        "nM = len(male_cases)\n",
        "nF = len(female_cases)\n",
        "xM = dead_count.iloc[1].item()\n",
        "xF = dead_count.iloc[0].item()\n",
        "p_male = xM / nM\n",
        "p_female = xF / nF\n",
        "\n",
        "p_est = p_male - p_female\n",
        "print('point estimate =', p_est)\n",
        "\n",
        "# find value of alpha corresponding to maximum Z statistic\n",
        "q3_z = p_est / sqrt((p_male*(1-p_male)/nM) + (p_female*(1-p_female)/nF))\n",
        "q3_alpha = stats.norm.sf(q3_z)\n",
        "print('confidence of p_male > p_female:', 100*(1-q3_alpha), '%')"
      ],
      "execution_count": null,
      "outputs": [
        {
          "output_type": "stream",
          "text": [
            "point estimate = 0.001573312683604361\n",
            "confidence of p_male > p_female: 61.03247058882667 %\n"
          ],
          "name": "stdout"
        }
      ]
    },
    {
      "cell_type": "code",
      "metadata": {
        "id": "k17nN5uTmky5",
        "colab": {
          "base_uri": "https://localhost:8080/"
        },
        "outputId": "82d9a796-6f5f-4d23-8a35-8866cb7387d5"
      },
      "source": [
        "# new method\n",
        "pool_est = (xM + xF) / (nM + nF)\n",
        "q3_z2 = p_est / sqrt((pool_est * (1-pool_est)) * (1/nM + 1/nF))\n",
        "q3_alpha2 = stats.norm.sf(q3_z2)\n",
        "print('alpha >', q3_alpha2)\n",
        "print('confidence of p_male > p_female:', 100*(1-q3_alpha2), '%')"
      ],
      "execution_count": null,
      "outputs": [
        {
          "output_type": "stream",
          "text": [
            "alpha > 0.3913074099418902\n",
            "confidence of p_male > p_female: 60.869259005810974 %\n"
          ],
          "name": "stdout"
        }
      ]
    },
    {
      "cell_type": "markdown",
      "metadata": {
        "id": "XJICDrQRNyHj"
      },
      "source": [
        "**4) Estimate the mean number of days to recover with 95% confidence intervals. (4 marks)**"
      ]
    },
    {
      "cell_type": "code",
      "metadata": {
        "id": "d6aS2KUbEhgu",
        "colab": {
          "base_uri": "https://localhost:8080/"
        },
        "outputId": "fca730c0-51ac-4c43-c414-d0c7a7b521e2"
      },
      "source": [
        "q4_n = len(recovered)\n",
        "recovered_mean = recovered['DAYS TO RECOVER'].mean()\n",
        "recovered_var = np.var(recovered['DAYS TO RECOVER'], ddof=1)\n",
        "q4_t = stats.t.isf(0.025, df=669)\n",
        "q4_lower = recovered_mean - q4_t * sqrt(recovered_var/q4_n)\n",
        "q4_upper = recovered_mean + q4_t * sqrt(recovered_var/q4_n)\n",
        "print('95% confidence interval is:', q4_lower, '< miu <', q4_upper)"
      ],
      "execution_count": null,
      "outputs": [
        {
          "output_type": "stream",
          "text": [
            "95% confidence interval is: 15.514763882068207 < miu < 16.67329581942433\n"
          ],
          "name": "stdout"
        }
      ]
    },
    {
      "cell_type": "code",
      "metadata": {
        "id": "qtnwiHCemZiF",
        "colab": {
          "base_uri": "https://localhost:8080/",
          "height": 296
        },
        "outputId": "51d94f92-ff7e-4e13-b587-8ec9da329705"
      },
      "source": [
        "q4_plot = recovered['DAYS TO RECOVER']\n",
        "sns.histplot(q4_plot, kde=True, binwidth=1,)"
      ],
      "execution_count": null,
      "outputs": [
        {
          "output_type": "execute_result",
          "data": {
            "text/plain": [
              "<matplotlib.axes._subplots.AxesSubplot at 0x7f9cda086550>"
            ]
          },
          "metadata": {
            "tags": []
          },
          "execution_count": 25
        },
        {
          "output_type": "display_data",
          "data": {
            "image/png": "[encoded data removed]",
            "text/plain": [
              "<Figure size 432x288 with 1 Axes>"
            ]
          },
          "metadata": {
            "tags": []
          }
        }
      ]
    },
    {
      "cell_type": "markdown",
      "metadata": {
        "id": "r4TiayjweQ2j"
      },
      "source": [
        "**5) According to the data provided, is it true that a Singaporean (nationality-wise) male is more likely to contract COVID-19 than a Singaporean female? How conclusive is your answer? (4 marks)**"
      ]
    },
    {
      "cell_type": "code",
      "metadata": {
        "id": "FH3WIxE7eQb-",
        "colab": {
          "base_uri": "https://localhost:8080/"
        },
        "outputId": "19a18302-3fb4-4dd8-f667-1b5a93a6a33e"
      },
      "source": [
        "# number of SG male and female cases\n",
        "sg_cases = df['GENDER'].loc[df['NATIONALITY'] == 'Singaporean']\n",
        "sg_males = sg_cases[sg_cases == 'Male']\n",
        "sg_females = sg_cases[sg_cases == 'Female']\n",
        "print('No. of SG males =', len(sg_males))\n",
        "print('No. of SG females =', len(sg_females))"
      ],
      "execution_count": null,
      "outputs": [
        {
          "output_type": "stream",
          "text": [
            "No. of SG males = 400\n",
            "No. of SG females = 324\n"
          ],
          "name": "stdout"
        }
      ]
    },
    {
      "cell_type": "code",
      "metadata": {
        "id": "vjMsO-Bc8cb_",
        "colab": {
          "base_uri": "https://localhost:8080/"
        },
        "outputId": "08f1b2a9-f466-405d-bf06-306ee4f729a5"
      },
      "source": [
        "# find value of alpha corresponding to maximum Z statistic\n",
        "p_sgm = len(sg_males) / len(sg_cases)\n",
        "n = len(sg_cases)\n",
        "q5_z = (p_sgm - 0.5) / (sqrt(p_sgm*(1-p_sgm)/n))\n",
        "q5_alpha = stats.norm.sf(q5_z)\n",
        "print('alpha =', q5_alpha)\n",
        "print('confidence of proportion exceeding 0.5:', 100*(1-q5_alpha), '%')"
      ],
      "execution_count": null,
      "outputs": [
        {
          "output_type": "stream",
          "text": [
            "alpha = 0.0022541955869423646\n",
            "confidence of proportion exceeding 0.5: 99.77458044130576 %\n"
          ],
          "name": "stdout"
        }
      ]
    },
    {
      "cell_type": "code",
      "metadata": {
        "id": "VpEU0bEaqn_M",
        "colab": {
          "base_uri": "https://localhost:8080/"
        },
        "outputId": "044bd866-bdf9-4868-c538-bb97d4494134"
      },
      "source": [
        "q5_z2 = (p_sgm - 0.5) / sqrt(0.5*(1-0.5)/724)\n",
        "q5_alpha2 = stats.norm.sf(q5_z2)\n",
        "print(q5_z2)\n",
        "print('alpha =', q5_alpha2)\n",
        "print('confidence of proportion exceeding 0.5:', 100*(1-q5_alpha2), '%')"
      ],
      "execution_count": null,
      "outputs": [
        {
          "output_type": "stream",
          "text": [
            "2.8245177557392336\n",
            "alpha = 0.00236759123028613\n",
            "confidence of proportion exceeding 0.5: 99.76324087697138 %\n"
          ],
          "name": "stdout"
        }
      ]
    },
    {
      "cell_type": "markdown",
      "metadata": {
        "id": "M98KloMseZyu"
      },
      "source": [
        "**6) According to the data, is it true that a COVID-19 patient at or above the age of 50 takes longer to recover than a patient who is younger than 50? How conclusive is your answer? (4 marks)**"
      ]
    },
    {
      "cell_type": "code",
      "metadata": {
        "id": "rlRdY4ythfag",
        "colab": {
          "base_uri": "https://localhost:8080/",
          "height": 114
        },
        "outputId": "7dca3267-3e1c-4268-f740-8dfed8ae8369"
      },
      "source": [
        "# check which row does not contain age\n",
        "df[df['AGE'].isnull()]"
      ],
      "execution_count": null,
      "outputs": [
        {
          "output_type": "execute_result",
          "data": {
            "text/html": [
              "<div>\n",
              "<style scoped>\n",
              "    .dataframe tbody tr th:only-of-type {\n",
              "        vertical-align: middle;\n",
              "    }\n",
              "\n",
              "    .dataframe tbody tr th {\n",
              "        vertical-align: top;\n",
              "    }\n",
              "\n",
              "    .dataframe thead th {\n",
              "        text-align: right;\n",
              "    }\n",
              "</style>\n",
              "<table border=\"1\" class=\"dataframe\">\n",
              "  <thead>\n",
              "    <tr style=\"text-align: right;\">\n",
              "      <th></th>\n",
              "      <th>CASE</th>\n",
              "      <th>AGE</th>\n",
              "      <th>GENDER</th>\n",
              "      <th>NATIONALITY</th>\n",
              "      <th>STATUS</th>\n",
              "      <th>SYMPTOMATIC TO CONFIRMATION</th>\n",
              "      <th>DAYS TO RECOVER</th>\n",
              "      <th>SYMPTOMATIC ON</th>\n",
              "      <th>CONFIRMED ON</th>\n",
              "      <th>RECOVERED ON</th>\n",
              "      <th>DISPLAYED SYMPTOMS?</th>\n",
              "    </tr>\n",
              "  </thead>\n",
              "  <tbody>\n",
              "    <tr>\n",
              "      <th>282</th>\n",
              "      <td>282.0</td>\n",
              "      <td>NaN</td>\n",
              "      <td>Male</td>\n",
              "      <td>Unidentified nationality</td>\n",
              "      <td>Recovered</td>\n",
              "      <td>NaN</td>\n",
              "      <td>18.0</td>\n",
              "      <td>NaT</td>\n",
              "      <td>2020-03-17</td>\n",
              "      <td>2020-04-04</td>\n",
              "      <td>1.0</td>\n",
              "    </tr>\n",
              "  </tbody>\n",
              "</table>\n",
              "</div>"
            ],
            "text/plain": [
              "      CASE  AGE GENDER               NATIONALITY     STATUS  \\\n",
              "282  282.0  NaN   Male  Unidentified nationality  Recovered   \n",
              "\n",
              "     SYMPTOMATIC TO CONFIRMATION  DAYS TO RECOVER SYMPTOMATIC ON CONFIRMED ON  \\\n",
              "282                          NaN             18.0            NaT   2020-03-17   \n",
              "\n",
              "    RECOVERED ON DISPLAYED SYMPTOMS?  \n",
              "282   2020-04-04                 1.0  "
            ]
          },
          "metadata": {
            "tags": []
          },
          "execution_count": 29
        }
      ]
    },
    {
      "cell_type": "code",
      "metadata": {
        "id": "3IxW2eZ0kjYa",
        "colab": {
          "base_uri": "https://localhost:8080/"
        },
        "outputId": "576d1c37-7b34-4f1f-e9b6-e6e44a8308ea"
      },
      "source": [
        "recovered2 = (df[['AGE', 'DAYS TO RECOVER']]\n",
        "              .loc[df['STATUS'] == 'Recovered']\n",
        "              .loc[df['AGE'].notnull()] # only choose rows containing age\n",
        ")\n",
        "\n",
        "recovered_old = recovered2['DAYS TO RECOVER'].loc[recovered2['AGE'] >= 50]\n",
        "recovered_young = recovered2['DAYS TO RECOVER'].loc[recovered2['AGE'] < 50]\n",
        "\n",
        "# count sample size used\n",
        "print('Sample size: ', len(recovered2))\n",
        "print(len(recovered_old), 'patients at/above 50')\n",
        "print(len(recovered_young), 'patients under 50', '\\n')\n",
        "\n",
        "# get mean values (displayed in 3 d.p.)\n",
        "recovered_old_mean = recovered_old.mean()\n",
        "recovered_young_mean = recovered_young.mean()\n",
        "print('Mean days for at/above 50: ', \"{:.3f}\".format(recovered_old_mean))\n",
        "print('Mean days for below 50: ', \"{:.3f}\".format(recovered_young_mean))\n",
        "print('Point estimate =', \"{:.3f}\".format(recovered_old_mean - recovered_young_mean))\n",
        "\n",
        "# get median values (displayed in 3 d.p.)\n",
        "recovered_old_median = recovered_old.median()\n",
        "recovered_young_median = recovered_young.median()\n",
        "print('Median days for at/above 50: ', \"{:.3f}\".format(recovered_old_median))\n",
        "print('Median days for below 50: ', \"{:.3f}\".format(recovered_young_median))\n",
        "\n",
        "# get sample variance (displayed in 3 d.p.)\n",
        "recovered_old_var = recovered_old.var(ddof=1)\n",
        "recovered_young_var = recovered_young.var(ddof=1)\n",
        "print('Sample variance for at/above 50: ', \"{:.3f}\".format(recovered_old_var))\n",
        "print('Sample variance for below 50: ', \"{:.3f}\".format(recovered_young_var))"
      ],
      "execution_count": null,
      "outputs": [
        {
          "output_type": "stream",
          "text": [
            "Sample size:  669\n",
            "236 patients at/above 50\n",
            "433 patients under 50 \n",
            "\n",
            "Mean days for at/above 50:  16.712\n",
            "Mean days for below 50:  15.753\n",
            "Point estimate = 0.959\n",
            "Median days for at/above 50:  16.000\n",
            "Median days for below 50:  15.000\n",
            "Sample variance for at/above 50:  80.580\n",
            "Sample variance for below 50:  46.136\n"
          ],
          "name": "stdout"
        }
      ]
    },
    {
      "cell_type": "code",
      "metadata": {
        "id": "Xk8UiQseh8r6",
        "colab": {
          "base_uri": "https://localhost:8080/"
        },
        "outputId": "52decc1a-bce8-4b7e-de3e-a0bc33f7f523"
      },
      "source": [
        "# perform F test to test for unequal variances\n",
        "f, p = f_test(recovered_old, recovered_young)\n",
        "print('required f-statistic =', f)\n",
        "print('alpha =', p)\n",
        "print('confidence of unequal variances =', 100*(1-p), '%')"
      ],
      "execution_count": null,
      "outputs": [
        {
          "output_type": "stream",
          "text": [
            "required f-statistic = 1.7466021139903123\n",
            "alpha = 3.2089927927047514e-07\n",
            "confidence of unequal variances = 99.99996791007207 %\n"
          ],
          "name": "stdout"
        }
      ]
    },
    {
      "cell_type": "code",
      "metadata": {
        "id": "ymI-wZqDkELO",
        "colab": {
          "base_uri": "https://localhost:8080/"
        },
        "outputId": "1909668d-f958-48c1-a016-0d70d26b5c93"
      },
      "source": [
        "# find estimated degrees of freedom for T statistic (unequal variance assumption)\n",
        "kk2 = (recovered_old_var/236 + recovered_young_var/433)**2\n",
        "kkk2 = ((recovered_old_var/236)**2 / 235) + ((recovered_young_var/433)**2 / 432)\n",
        "q6_DOF_est = floor(kk2/kkk2)\n",
        "print('estimated DOF =', DOF_est)\n",
        "\n",
        "# find value of alpha corresponding to maximum T statistic\n",
        "q6_mean_point_est = recovered_old_mean - recovered_young_mean\n",
        "q6_t_half_alpha = q6_mean_point_est / sqrt(recovered_old_var/236 + recovered_young_var/433)\n",
        "q6_alpha2 = stats.t.sf(q6_t_half_alpha, q6_DOF_est)\n",
        "print(q6_t_half_alpha, q6_alpha2)\n",
        "print('p-value calculated manually:', q6_alpha2)\n",
        "print('confidence of miuA > miuB:', 100*(1-q6_alpha2), '%')"
      ],
      "execution_count": null,
      "outputs": [
        {
          "output_type": "stream",
          "text": [
            "estimated DOF = 632\n",
            "1.4327608179355817 0.07636989171026315\n",
            "p-value calculated manually: 0.07636989171026315\n",
            "confidence of miuA > miuB: 92.36301082897369 %\n"
          ],
          "name": "stdout"
        }
      ]
    },
    {
      "cell_type": "code",
      "metadata": {
        "id": "a6ZSirtcnQcV",
        "colab": {
          "base_uri": "https://localhost:8080/"
        },
        "outputId": "e893df2b-1260-4e9c-ac3c-242e2bb09cb6"
      },
      "source": [
        "# scipy two-sample T test\n",
        "t,p = stats.ttest_ind(recovered_old, recovered_young, equal_var=False)\n",
        "print('0.5*p-value given by SciPy:', p/2)"
      ],
      "execution_count": null,
      "outputs": [
        {
          "output_type": "stream",
          "text": [
            "0.5*p-value given by SciPy: 0.07636968253282923\n"
          ],
          "name": "stdout"
        }
      ]
    },
    {
      "cell_type": "markdown",
      "metadata": {
        "id": "B8rhOW19atRd"
      },
      "source": [
        "# Part 2: COVID-19 in Singapore and overseas"
      ]
    },
    {
      "cell_type": "code",
      "metadata": {
        "id": "HLnYriP2odTQ",
        "colab": {
          "base_uri": "https://localhost:8080/",
          "height": 204
        },
        "outputId": "826486c2-b565-4726-a06a-33bf5ed265bd"
      },
      "source": [
        "df2 = pd.read_excel('/content/drive/My Drive/Eng Stats project/COVID-19 Data for Project original.xlsx',\n",
        "                    sheet_name=1)\n",
        "df2.rename(columns={'Unnamed: 0': 'Date'}, inplace=True)\n",
        "df2['Date'] = pd.to_datetime(df2['Date'])\n",
        "df2.tail()"
      ],
      "execution_count": null,
      "outputs": [
        {
          "output_type": "execute_result",
          "data": {
            "text/html": [
              "<div>\n",
              "<style scoped>\n",
              "    .dataframe tbody tr th:only-of-type {\n",
              "        vertical-align: middle;\n",
              "    }\n",
              "\n",
              "    .dataframe tbody tr th {\n",
              "        vertical-align: top;\n",
              "    }\n",
              "\n",
              "    .dataframe thead th {\n",
              "        text-align: right;\n",
              "    }\n",
              "</style>\n",
              "<table border=\"1\" class=\"dataframe\">\n",
              "  <thead>\n",
              "    <tr style=\"text-align: right;\">\n",
              "      <th></th>\n",
              "      <th>Date</th>\n",
              "      <th>Singapore</th>\n",
              "      <th>China</th>\n",
              "      <th>UK</th>\n",
              "      <th>US</th>\n",
              "    </tr>\n",
              "  </thead>\n",
              "  <tbody>\n",
              "    <tr>\n",
              "      <th>211</th>\n",
              "      <td>2020-07-29</td>\n",
              "      <td>359</td>\n",
              "      <td>207</td>\n",
              "      <td>70</td>\n",
              "      <td>61734</td>\n",
              "    </tr>\n",
              "    <tr>\n",
              "      <th>212</th>\n",
              "      <td>2020-07-30</td>\n",
              "      <td>334</td>\n",
              "      <td>223</td>\n",
              "      <td>763</td>\n",
              "      <td>74985</td>\n",
              "    </tr>\n",
              "    <tr>\n",
              "      <th>213</th>\n",
              "      <td>2020-07-31</td>\n",
              "      <td>278</td>\n",
              "      <td>276</td>\n",
              "      <td>846</td>\n",
              "      <td>68032</td>\n",
              "    </tr>\n",
              "    <tr>\n",
              "      <th>214</th>\n",
              "      <td>2020-08-01</td>\n",
              "      <td>396</td>\n",
              "      <td>166</td>\n",
              "      <td>880</td>\n",
              "      <td>67023</td>\n",
              "    </tr>\n",
              "    <tr>\n",
              "      <th>215</th>\n",
              "      <td>2020-08-02</td>\n",
              "      <td>307</td>\n",
              "      <td>165</td>\n",
              "      <td>771</td>\n",
              "      <td>58407</td>\n",
              "    </tr>\n",
              "  </tbody>\n",
              "</table>\n",
              "</div>"
            ],
            "text/plain": [
              "          Date  Singapore  China   UK     US\n",
              "211 2020-07-29        359    207   70  61734\n",
              "212 2020-07-30        334    223  763  74985\n",
              "213 2020-07-31        278    276  846  68032\n",
              "214 2020-08-01        396    166  880  67023\n",
              "215 2020-08-02        307    165  771  58407"
            ]
          },
          "metadata": {
            "tags": []
          },
          "execution_count": 34
        }
      ]
    },
    {
      "cell_type": "code",
      "metadata": {
        "id": "aJVc41MRbMr1",
        "colab": {
          "base_uri": "https://localhost:8080/",
          "height": 297
        },
        "outputId": "2ddb67e2-3265-457d-cd51-baa7bda9cbd1"
      },
      "source": [
        "df2.describe()"
      ],
      "execution_count": null,
      "outputs": [
        {
          "output_type": "execute_result",
          "data": {
            "text/html": [
              "<div>\n",
              "<style scoped>\n",
              "    .dataframe tbody tr th:only-of-type {\n",
              "        vertical-align: middle;\n",
              "    }\n",
              "\n",
              "    .dataframe tbody tr th {\n",
              "        vertical-align: top;\n",
              "    }\n",
              "\n",
              "    .dataframe thead th {\n",
              "        text-align: right;\n",
              "    }\n",
              "</style>\n",
              "<table border=\"1\" class=\"dataframe\">\n",
              "  <thead>\n",
              "    <tr style=\"text-align: right;\">\n",
              "      <th></th>\n",
              "      <th>Singapore</th>\n",
              "      <th>China</th>\n",
              "      <th>UK</th>\n",
              "      <th>US</th>\n",
              "    </tr>\n",
              "  </thead>\n",
              "  <tbody>\n",
              "    <tr>\n",
              "      <th>count</th>\n",
              "      <td>216.000000</td>\n",
              "      <td>216.000000</td>\n",
              "      <td>216.000000</td>\n",
              "      <td>216.000000</td>\n",
              "    </tr>\n",
              "    <tr>\n",
              "      <th>mean</th>\n",
              "      <td>243.111111</td>\n",
              "      <td>406.574074</td>\n",
              "      <td>1407.185185</td>\n",
              "      <td>21390.944444</td>\n",
              "    </tr>\n",
              "    <tr>\n",
              "      <th>std</th>\n",
              "      <td>284.577168</td>\n",
              "      <td>1286.753092</td>\n",
              "      <td>1668.086051</td>\n",
              "      <td>21489.200516</td>\n",
              "    </tr>\n",
              "    <tr>\n",
              "      <th>min</th>\n",
              "      <td>0.000000</td>\n",
              "      <td>0.000000</td>\n",
              "      <td>0.000000</td>\n",
              "      <td>0.000000</td>\n",
              "    </tr>\n",
              "    <tr>\n",
              "      <th>25%</th>\n",
              "      <td>3.000000</td>\n",
              "      <td>9.750000</td>\n",
              "      <td>1.000000</td>\n",
              "      <td>1.000000</td>\n",
              "    </tr>\n",
              "    <tr>\n",
              "      <th>50%</th>\n",
              "      <td>146.500000</td>\n",
              "      <td>38.000000</td>\n",
              "      <td>723.500000</td>\n",
              "      <td>20698.000000</td>\n",
              "    </tr>\n",
              "    <tr>\n",
              "      <th>75%</th>\n",
              "      <td>401.000000</td>\n",
              "      <td>136.500000</td>\n",
              "      <td>2412.750000</td>\n",
              "      <td>30574.000000</td>\n",
              "    </tr>\n",
              "    <tr>\n",
              "      <th>max</th>\n",
              "      <td>1426.000000</td>\n",
              "      <td>15141.000000</td>\n",
              "      <td>5487.000000</td>\n",
              "      <td>78427.000000</td>\n",
              "    </tr>\n",
              "  </tbody>\n",
              "</table>\n",
              "</div>"
            ],
            "text/plain": [
              "         Singapore         China           UK            US\n",
              "count   216.000000    216.000000   216.000000    216.000000\n",
              "mean    243.111111    406.574074  1407.185185  21390.944444\n",
              "std     284.577168   1286.753092  1668.086051  21489.200516\n",
              "min       0.000000      0.000000     0.000000      0.000000\n",
              "25%       3.000000      9.750000     1.000000      1.000000\n",
              "50%     146.500000     38.000000   723.500000  20698.000000\n",
              "75%     401.000000    136.500000  2412.750000  30574.000000\n",
              "max    1426.000000  15141.000000  5487.000000  78427.000000"
            ]
          },
          "metadata": {
            "tags": []
          },
          "execution_count": 35
        }
      ]
    },
    {
      "cell_type": "markdown",
      "metadata": {
        "id": "1BNroJfUa53D"
      },
      "source": [
        "**7) How does the daily number of new cases in Singapore correlate to the daily number of new cases in China, United Kingdom and United States, respectively? (4 marks)**"
      ]
    },
    {
      "cell_type": "code",
      "metadata": {
        "id": "ZOA430GecIjF",
        "colab": {
          "base_uri": "https://localhost:8080/",
          "height": 785
        },
        "outputId": "5f32d63d-01e9-4532-fdda-6c8dbacbf45a"
      },
      "source": [
        "sg = df2['Singapore']\n",
        "cn = df2['China']\n",
        "uk = df2['UK']\n",
        "us = df2['US']\n",
        "countries = [sg, cn, uk, us]\n",
        "country_names = ['Singapore', 'China', 'UK', 'US']\n",
        "\n",
        "def q7_plot():\n",
        "    fig, axs = plt.subplots(2,2, figsize=(16,13))\n",
        "    axs[0, 0].plot(sg)\n",
        "    axs[0, 0].set_title('Singapore')\n",
        "    axs[0, 1].plot(cn, 'tab:orange')\n",
        "    axs[0, 1].set_title('China')\n",
        "    axs[1, 0].plot(uk, 'tab:green')\n",
        "    axs[1, 0].set_title('United Kingdom')\n",
        "    axs[1, 1].plot(us, 'tab:red')\n",
        "    axs[1, 1].set_title('United States')\n",
        "\n",
        "    for ax in axs.flat:\n",
        "        ax.set(xlabel='Days since 31 Dec', ylabel='Daily new cases')\n",
        "\n",
        "    return plt.show()\n",
        "\n",
        "q7_plot()"
      ],
      "execution_count": null,
      "outputs": [
        {
          "output_type": "display_data",
          "data": {
            "image/png": "[encoded data removed]",
            "text/plain": [
              "<Figure size 1152x936 with 4 Axes>"
            ]
          },
          "metadata": {
            "tags": []
          }
        }
      ]
    },
    {
      "cell_type": "code",
      "metadata": {
        "id": "Syn6eX9LmE89",
        "colab": {
          "base_uri": "https://localhost:8080/"
        },
        "outputId": "70822bb1-0d90-49d7-d019-8afbf8881014"
      },
      "source": [
        "sg.corr(cn, method='spearman')"
      ],
      "execution_count": null,
      "outputs": [
        {
          "output_type": "execute_result",
          "data": {
            "text/plain": [
              "-0.37316254351062855"
            ]
          },
          "metadata": {
            "tags": []
          },
          "execution_count": 37
        }
      ]
    },
    {
      "cell_type": "code",
      "metadata": {
        "id": "PzB08XTv3KV4",
        "colab": {
          "base_uri": "https://localhost:8080/"
        },
        "outputId": "f3df7ccf-cf4b-4223-91f4-8c683691e3e7"
      },
      "source": [
        "# compute pearson, spearman, distance correlations for each relationship\n",
        "def q7_correlations():\n",
        "  for country in zip(country_names[1:], countries[1:]):\n",
        "      print(country[0])\n",
        "      pearson = sg.corr(country[1])\n",
        "      spearman = stats.spearmanr(sg, country[1]).correlation\n",
        "      kendall = stats.kendalltau(sg, country[1]).correlation\n",
        "      d_cor = distance_correlation(sg, country[1])\n",
        "\n",
        "      print('Pearson:', pearson)\n",
        "      print('Spearman:', spearman)\n",
        "      print('Kendall:', kendall)\n",
        "      print('Distance correlation:', d_cor)\n",
        "      print()\n",
        "\n",
        "q7_correlations()"
      ],
      "execution_count": null,
      "outputs": [
        {
          "output_type": "stream",
          "text": [
            "China\n",
            "Pearson: -0.24266500096603189\n",
            "Spearman: -0.37316254351062855\n",
            "Kendall: -0.29202636861769277\n",
            "Distance correlation: 0.38465154571980575\n",
            "\n",
            "UK\n",
            "Pearson: 0.6416816340950443\n",
            "Spearman: 0.7918328469451746\n",
            "Kendall: 0.6377009359608001\n",
            "Distance correlation: 0.6560873068473757\n",
            "\n",
            "US\n"
          ],
          "name": "stdout"
        },
        {
          "output_type": "stream",
          "text": [
            "/usr/local/lib/python3.6/dist-packages/dcor/_fast_dcov_avl.py:317: UserWarning: Falling back to uncompiled AVL fast distance covariance because of TypeError exception raised: No matching definition for argument type(s) array(int64, 1d, C), array(int64, 1d, C), bool. Rembember: only floating point values can be used in the compiled implementations.\n",
            "  warnings.warn(f\"Falling back to uncompiled AVL fast distance \"\n"
          ],
          "name": "stderr"
        },
        {
          "output_type": "stream",
          "text": [
            "Pearson: 0.41314516793899747\n",
            "Spearman: 0.6741815622222951\n",
            "Kendall: 0.49604016286660724\n",
            "Distance correlation: 0.6778751779509736\n",
            "\n"
          ],
          "name": "stdout"
        }
      ]
    },
    {
      "cell_type": "code",
      "metadata": {
        "id": "OmFGc79xF5mq",
        "colab": {
          "base_uri": "https://localhost:8080/",
          "height": 252
        },
        "outputId": "360fd983-2ac9-4e11-cf9b-ab4be1df5172"
      },
      "source": [
        "def q7_plot2():\n",
        "    fig, (ax1, ax2, ax3) = plt.subplots(1,3, figsize=(9,3.5))\n",
        "    sns.scatterplot(x=sg, y=cn, ax=ax1)\n",
        "    ax1.set(xlabel='Singapore', ylabel='China')\n",
        "    sns.scatterplot(x=sg, y=uk, ax=ax2)\n",
        "    ax2.set(xlabel='Singapore', ylabel='UK')\n",
        "    sns.scatterplot(x=sg, y=us, ax=ax3)\n",
        "    ax3.set(xlabel='Singapore', ylabel='US')\n",
        "    return plt.show()\n",
        "\n",
        "q7_plot2()"
      ],
      "execution_count": null,
      "outputs": [
        {
          "output_type": "display_data",
          "data": {
            "image/png": "[encoded data removed]",
            "text/plain": [
              "<Figure size 648x252 with 3 Axes>"
            ]
          },
          "metadata": {
            "tags": []
          }
        }
      ]
    },
    {
      "cell_type": "markdown",
      "metadata": {
        "id": "vsdt5G7kkUBy"
      },
      "source": [
        "**8) When COVID-19 spreads from one country to another, we may see some similarity in the behaviour of the outbreaks. For example, the number of new cases in Singapore may not correlate well with the number of new cases in China on a same-day basis, but may correlate better with the number of new cases in China x days ago. Find out the values of x that maximise the correlation between the number of new cases in Singapore and the number of new cases in China, United Kingdom and United States, respectively. Explain the method used to determine x and the assumptions made with justifications. Solutions that use an automated algorithm to find out x will score more marks (of course, you need to clearly explain the algorithm used and how it is computationally implemented). (8 marks)**"
      ]
    },
    {
      "cell_type": "code",
      "metadata": {
        "id": "O7sA5z1x3L6q",
        "colab": {
          "base_uri": "https://localhost:8080/"
        },
        "outputId": "ac371956-a1d8-405d-ad09-29fda239dbe2"
      },
      "source": [
        "def q8_algorithm(other_country):\n",
        "    \n",
        "    result = np.correlate(sg, other_country, 'full')\n",
        "    max_position = np.argmax(result) + 1\n",
        "    max_k = max_position - ceil(result.size/2)\n",
        "\n",
        "    return max_k\n",
        "\n",
        "other_countries = [[cn, 'China'], [uk, 'UK'], [us, 'US']]\n",
        "\n",
        "for country_code, country in other_countries:\n",
        "    x = q8_algorithm(country_code)\n",
        "    print('For {}, x = {}'.format(country, x))"
      ],
      "execution_count": null,
      "outputs": [
        {
          "output_type": "stream",
          "text": [
            "For China, x = 79\n",
            "For UK, x = 15\n",
            "For US, x = -63\n"
          ],
          "name": "stdout"
        }
      ]
    },
    {
      "cell_type": "code",
      "metadata": {
        "id": "mZ2mr-iOBnIZ",
        "colab": {
          "base_uri": "https://localhost:8080/",
          "height": 334
        },
        "outputId": "a8b304a2-06fd-433a-d9ed-b4d05f7a01e2"
      },
      "source": [
        "def corrplot():\n",
        "    a = np.array(sg, dtype=float)\n",
        "    b = np.array(cn, dtype=float)\n",
        "    c = np.array(uk, dtype=float)\n",
        "    d = np.array(us, dtype=float)\n",
        "    fig, (ax1, ax2, ax3) = plt.subplots(1,3, figsize=(14,5))\n",
        "    ax1.xcorr(a, b, maxlags=None)\n",
        "    ax1.set(xlabel='Lags (China)', ylabel='CCF')\n",
        "    ax2.xcorr(a, c, maxlags=None)\n",
        "    ax2.set(xlabel='Lags (UK)', ylabel='CCF')\n",
        "    ax3.xcorr(a, d, maxlags=None)\n",
        "    ax3.set(xlabel='Lags (US)', ylabel='CCF')\n",
        "    return plt.show()\n",
        "\n",
        "corrplot()"
      ],
      "execution_count": null,
      "outputs": [
        {
          "output_type": "display_data",
          "data": {
            "image/png": "[encoded data removed]",
            "text/plain": [
              "<Figure size 1008x360 with 3 Axes>"
            ]
          },
          "metadata": {
            "tags": []
          }
        }
      ]
    },
    {
      "cell_type": "code",
      "metadata": {
        "id": "yyhTJN2ErFQB"
      },
      "source": [
        ""
      ],
      "execution_count": null,
      "outputs": []
    }
  ]
}